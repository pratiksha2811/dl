{
  "nbformat": 4,
  "nbformat_minor": 0,
  "metadata": {
    "colab": {
      "provenance": []
    },
    "kernelspec": {
      "name": "python3",
      "display_name": "Python 3"
    },
    "language_info": {
      "name": "python"
    }
  },
  "cells": [
    {
      "cell_type": "code",
      "execution_count": 9,
      "metadata": {
        "id": "4pr0QWbCPm52"
      },
      "outputs": [],
      "source": [
        "from keras.datasets import imdb\n",
        "(train_data, train_label), (test_data, test_label) = imdb.load_data(num_words = 1000)"
      ]
    },
    {
      "cell_type": "code",
      "source": [
        "import numpy as np\n",
        "\n",
        "def vectorize_sequences(sequences, dimensions = 10000):\n",
        "  results = np.zeros((len(sequences), dimensions))\n",
        "  for i,sequences in enumerate(sequences):\n",
        "    results[i, sequences] = 1\n",
        "  return results\n",
        "\n",
        "x_train = vectorize_sequences(train_data)\n",
        "x_test = vectorize_sequences(test_data)"
      ],
      "metadata": {
        "id": "J3j8yYTmRQyu"
      },
      "execution_count": 10,
      "outputs": []
    },
    {
      "cell_type": "code",
      "source": [
        "y_train = np.asarray(train_label).astype('float32')\n",
        "y_test = np.asarray(test_label).astype('float32')"
      ],
      "metadata": {
        "id": "DZ_gOHtwRaJs"
      },
      "execution_count": 11,
      "outputs": []
    },
    {
      "cell_type": "code",
      "source": [
        "from tensorflow.keras.models import Sequential\n",
        "from tensorflow.keras.layers import Dense\n",
        "model = Sequential()\n",
        "model.add(Dense(16, input_shape=(10000, ), activation = \"relu\"))\n",
        "model.add(Dense(16, activation = \"relu\"))\n",
        "model.add(Dense(1, activation = \"sigmoid\"))"
      ],
      "metadata": {
        "id": "dciRB4BeRawK"
      },
      "execution_count": 12,
      "outputs": []
    },
    {
      "cell_type": "code",
      "source": [
        "model.compile(optimizer='adam', loss = 'mse', metrics = ['accuracy'])\n",
        "model.summary()\n"
      ],
      "metadata": {
        "colab": {
          "base_uri": "https://localhost:8080/"
        },
        "id": "FFPieNpJRay0",
        "outputId": "d98d6d77-8d3c-4302-a817-92286f34b427"
      },
      "execution_count": 13,
      "outputs": [
        {
          "output_type": "stream",
          "name": "stdout",
          "text": [
            "Model: \"sequential_1\"\n",
            "_________________________________________________________________\n",
            " Layer (type)                Output Shape              Param #   \n",
            "=================================================================\n",
            " dense_3 (Dense)             (None, 16)                160016    \n",
            "                                                                 \n",
            " dense_4 (Dense)             (None, 16)                272       \n",
            "                                                                 \n",
            " dense_5 (Dense)             (None, 1)                 17        \n",
            "                                                                 \n",
            "=================================================================\n",
            "Total params: 160,305\n",
            "Trainable params: 160,305\n",
            "Non-trainable params: 0\n",
            "_________________________________________________________________\n"
          ]
        }
      ]
    },
    {
      "cell_type": "code",
      "source": [
        "history = model.fit(x_train, y_train, validation_split = 0.3, epochs = 20, verbose = 1, batch_size = 512)\n"
      ],
      "metadata": {
        "colab": {
          "base_uri": "https://localhost:8080/"
        },
        "id": "T6JjkmcVRa1s",
        "outputId": "0b5b1139-96b4-4dda-a6e3-c1d41dd0899d"
      },
      "execution_count": 14,
      "outputs": [
        {
          "output_type": "stream",
          "name": "stdout",
          "text": [
            "Epoch 1/20\n",
            "35/35 [==============================] - 3s 64ms/step - loss: 0.2021 - accuracy: 0.7111 - val_loss: 0.1484 - val_accuracy: 0.8291\n",
            "Epoch 2/20\n",
            "35/35 [==============================] - 1s 43ms/step - loss: 0.1231 - accuracy: 0.8501 - val_loss: 0.1109 - val_accuracy: 0.8532\n",
            "Epoch 3/20\n",
            "35/35 [==============================] - 2s 45ms/step - loss: 0.1017 - accuracy: 0.8666 - val_loss: 0.1043 - val_accuracy: 0.8620\n",
            "Epoch 4/20\n",
            "35/35 [==============================] - 2s 52ms/step - loss: 0.0952 - accuracy: 0.8738 - val_loss: 0.1023 - val_accuracy: 0.8604\n",
            "Epoch 5/20\n",
            "35/35 [==============================] - 1s 35ms/step - loss: 0.0918 - accuracy: 0.8782 - val_loss: 0.1016 - val_accuracy: 0.8613\n",
            "Epoch 6/20\n",
            "35/35 [==============================] - 1s 31ms/step - loss: 0.0900 - accuracy: 0.8811 - val_loss: 0.1018 - val_accuracy: 0.8620\n",
            "Epoch 7/20\n",
            "35/35 [==============================] - 1s 32ms/step - loss: 0.0895 - accuracy: 0.8823 - val_loss: 0.1024 - val_accuracy: 0.8620\n",
            "Epoch 8/20\n",
            "35/35 [==============================] - 1s 38ms/step - loss: 0.0881 - accuracy: 0.8841 - val_loss: 0.1039 - val_accuracy: 0.8599\n",
            "Epoch 9/20\n",
            "35/35 [==============================] - 1s 33ms/step - loss: 0.0883 - accuracy: 0.8845 - val_loss: 0.1033 - val_accuracy: 0.8623\n",
            "Epoch 10/20\n",
            "35/35 [==============================] - 1s 32ms/step - loss: 0.0871 - accuracy: 0.8863 - val_loss: 0.1048 - val_accuracy: 0.8592\n",
            "Epoch 11/20\n",
            "35/35 [==============================] - 1s 36ms/step - loss: 0.0872 - accuracy: 0.8866 - val_loss: 0.1044 - val_accuracy: 0.8600\n",
            "Epoch 12/20\n",
            "35/35 [==============================] - 1s 31ms/step - loss: 0.0865 - accuracy: 0.8865 - val_loss: 0.1046 - val_accuracy: 0.8591\n",
            "Epoch 13/20\n",
            "35/35 [==============================] - 2s 50ms/step - loss: 0.0862 - accuracy: 0.8891 - val_loss: 0.1051 - val_accuracy: 0.8584\n",
            "Epoch 14/20\n",
            "35/35 [==============================] - 2s 66ms/step - loss: 0.0859 - accuracy: 0.8877 - val_loss: 0.1050 - val_accuracy: 0.8595\n",
            "Epoch 15/20\n",
            "35/35 [==============================] - 2s 44ms/step - loss: 0.0862 - accuracy: 0.8877 - val_loss: 0.1060 - val_accuracy: 0.8603\n",
            "Epoch 16/20\n",
            "35/35 [==============================] - 1s 37ms/step - loss: 0.0860 - accuracy: 0.8879 - val_loss: 0.1070 - val_accuracy: 0.8573\n",
            "Epoch 17/20\n",
            "35/35 [==============================] - 1s 39ms/step - loss: 0.0857 - accuracy: 0.8898 - val_loss: 0.1063 - val_accuracy: 0.8581\n",
            "Epoch 18/20\n",
            "35/35 [==============================] - 1s 32ms/step - loss: 0.0854 - accuracy: 0.8898 - val_loss: 0.1072 - val_accuracy: 0.8584\n",
            "Epoch 19/20\n",
            "35/35 [==============================] - 1s 41ms/step - loss: 0.0862 - accuracy: 0.8877 - val_loss: 0.1065 - val_accuracy: 0.8575\n",
            "Epoch 20/20\n",
            "35/35 [==============================] - 1s 32ms/step - loss: 0.0849 - accuracy: 0.8911 - val_loss: 0.1068 - val_accuracy: 0.8579\n"
          ]
        }
      ]
    },
    {
      "cell_type": "code",
      "source": [
        "mse,mae = model.evaluate(x_test,y_test)\n",
        "\n",
        "print('MSE ',mse)\n",
        "print('MAE ',mae)"
      ],
      "metadata": {
        "colab": {
          "base_uri": "https://localhost:8080/"
        },
        "id": "a2k6NL2nRa4m",
        "outputId": "0b4e7565-0264-4caa-fb20-b5de2539a00e"
      },
      "execution_count": 15,
      "outputs": [
        {
          "output_type": "stream",
          "name": "stdout",
          "text": [
            "782/782 [==============================] - 3s 4ms/step - loss: 0.1098 - accuracy: 0.8504\n",
            "MSE  0.10984976589679718\n",
            "MAE  0.8504400253295898\n"
          ]
        }
      ]
    },
    {
      "cell_type": "code",
      "source": [
        "y_pred = model.predict(x_test)\n",
        "y_pred"
      ],
      "metadata": {
        "colab": {
          "base_uri": "https://localhost:8080/"
        },
        "id": "FLFtms1JRa8Z",
        "outputId": "7679470a-8eba-4267-da26-27e2664d8159"
      },
      "execution_count": 16,
      "outputs": [
        {
          "output_type": "stream",
          "name": "stdout",
          "text": [
            "782/782 [==============================] - 2s 2ms/step\n"
          ]
        },
        {
          "output_type": "execute_result",
          "data": {
            "text/plain": [
              "array([[0.1139238 ],\n",
              "       [0.9986973 ],\n",
              "       [0.25524935],\n",
              "       ...,\n",
              "       [0.07266877],\n",
              "       [0.04622869],\n",
              "       [0.56766015]], dtype=float32)"
            ]
          },
          "metadata": {},
          "execution_count": 16
        }
      ]
    },
    {
      "cell_type": "code",
      "source": [
        "y_test\n"
      ],
      "metadata": {
        "colab": {
          "base_uri": "https://localhost:8080/"
        },
        "id": "GxNYyHI2SHjG",
        "outputId": "84d0e62b-f30d-4d6d-a22c-aee15c3065ed"
      },
      "execution_count": 17,
      "outputs": [
        {
          "output_type": "execute_result",
          "data": {
            "text/plain": [
              "array([0., 1., 1., ..., 0., 0., 0.], dtype=float32)"
            ]
          },
          "metadata": {},
          "execution_count": 17
        }
      ]
    },
    {
      "cell_type": "code",
      "source": [],
      "metadata": {
        "id": "f_jt-4QmSHl5"
      },
      "execution_count": 17,
      "outputs": []
    },
    {
      "cell_type": "code",
      "source": [],
      "metadata": {
        "id": "nzGYETApSHpT"
      },
      "execution_count": 17,
      "outputs": []
    },
    {
      "cell_type": "code",
      "source": [],
      "metadata": {
        "id": "Xl4y1M2uSHsE"
      },
      "execution_count": 17,
      "outputs": []
    },
    {
      "cell_type": "code",
      "source": [],
      "metadata": {
        "id": "MjwVnCmjSH3x"
      },
      "execution_count": 17,
      "outputs": []
    }
  ]
}