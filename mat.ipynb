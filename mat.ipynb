{
  "nbformat": 4,
  "nbformat_minor": 0,
  "metadata": {
    "colab": {
      "provenance": [],
      "gpuType": "T4"
    },
    "kernelspec": {
      "name": "python3",
      "display_name": "Python 3"
    },
    "language_info": {
      "name": "python"
    },
    "accelerator": "GPU",
    "gpuClass": "standard"
  },
  "cells": [
    {
      "cell_type": "code",
      "source": [
        "!pip install git+https://github.com/afnan47/cuda.git"
      ],
      "metadata": {
        "id": "e8HCZlGwKilQ",
        "colab": {
          "base_uri": "https://localhost:8080/"
        },
        "outputId": "e030b870-432e-41cf-dfbb-64eeabff2338"
      },
      "execution_count": 3,
      "outputs": [
        {
          "output_type": "stream",
          "name": "stdout",
          "text": [
            "Looking in indexes: https://pypi.org/simple, https://us-python.pkg.dev/colab-wheels/public/simple/\n",
            "Collecting git+https://github.com/afnan47/cuda.git\n",
            "  Cloning https://github.com/afnan47/cuda.git to /tmp/pip-req-build-h5i5oilh\n",
            "  Running command git clone --filter=blob:none --quiet https://github.com/afnan47/cuda.git /tmp/pip-req-build-h5i5oilh\n",
            "  Resolved https://github.com/afnan47/cuda.git to commit aac710a35f52bb78ab34d2e52517237941399eff\n",
            "  Preparing metadata (setup.py) ... \u001b[?25l\u001b[?25hdone\n"
          ]
        }
      ]
    },
    {
      "cell_type": "code",
      "source": [
        "%load_ext nvcc_plugin"
      ],
      "metadata": {
        "id": "zT0V0Nc1KiiE",
        "colab": {
          "base_uri": "https://localhost:8080/"
        },
        "outputId": "a2f8594e-83ef-4f93-e606-3212466ec18b"
      },
      "execution_count": 4,
      "outputs": [
        {
          "output_type": "stream",
          "name": "stdout",
          "text": [
            "created output directory at /content/src\n",
            "Out bin /content/result.out\n"
          ]
        }
      ]
    },
    {
      "cell_type": "code",
      "source": [
        "%%cu\n",
        "#include <iostream>\n",
        "using namespace std;\n",
        "\n",
        "\n",
        "__global__ void multiply(int* A, int* B, int* C, int size) {\n",
        "    int row = blockIdx.y * blockDim.y + threadIdx.y;\n",
        "    int col = blockIdx.x * blockDim.x + threadIdx.x;\n",
        "\n",
        "    if (row < size && col < size) {\n",
        "        int sum = 0;\n",
        "        for (int i = 0; i < size; i++) {\n",
        "            sum += A[row * size + i] * B[i * size + col];\n",
        "        }\n",
        "        C[row * size + col] = sum;\n",
        "    }\n",
        "}\n",
        "\n",
        "\n",
        "void initialize(int* matrix, int size) {\n",
        "    for (int i = 0; i < size * size; i++) {\n",
        "        matrix[i] = rand() % 10;\n",
        "    }\n",
        "}\n",
        "\n",
        "\n",
        "void print(int* matrix, int size) {\n",
        "    for (int row = 0; row < size; row++) {\n",
        "        for (int col = 0; col < size; col++) {\n",
        "            cout << matrix[row * size + col] << \" \";\n",
        "        }\n",
        "        cout << '\\n';\n",
        "    }\n",
        "    cout << '\\n';\n",
        "}\n",
        "\n",
        "\n",
        "int main() {\n",
        "    int* A, * B, * C;\n",
        "\n",
        "    int N = 2;\n",
        "    int blockSize =  16;\n",
        "\n",
        "    int matrixSize = N * N;\n",
        "    size_t matrixBytes = matrixSize * sizeof(int);\n",
        "\n",
        "    A = new int[matrixSize];\n",
        "    B = new int[matrixSize];\n",
        "    C = new int[matrixSize];\n",
        "\n",
        "    initialize(A, N);\n",
        "    initialize(B, N);\n",
        "    cout << \"Matrix A: \\n\";\n",
        "    print(A, N);\n",
        "\n",
        "    cout << \"Matrix B: \\n\";\n",
        "    print(B, N);\n",
        "\n",
        "    \n",
        "    int* X, * Y, * Z;\n",
        "    // Allocate space\n",
        "    cudaMalloc(&X, matrixBytes);\n",
        "    cudaMalloc(&Y, matrixBytes);\n",
        "    cudaMalloc(&Z, matrixBytes);\n",
        "\n",
        "    cudaMemcpy(X, A, matrixBytes, cudaMemcpyHostToDevice);\n",
        "    \n",
        "    cudaMemcpy(Y, B, matrixBytes, cudaMemcpyHostToDevice);\n",
        "\n",
        "    int THREADS = 2;\n",
        "\n",
        "    int BLOCKS = N / THREADS;\n",
        "\n",
        "    dim3 threads(THREADS, THREADS);\n",
        "    dim3 blocks(BLOCKS, BLOCKS);\n",
        "\n",
        "    multiply<<<blocks, threads>>>(X, Y, Z, N);\n",
        "\n",
        "    cudaMemcpy(C, Z, matrixBytes, cudaMemcpyDeviceToHost);\n",
        "    cout << \"Multiplication of matrix A and B: \\n\";\n",
        "    print(C, N);\n",
        "\n",
        "    delete[] A;\n",
        "    delete[] B;\n",
        "    delete[] C;\n",
        "\n",
        "    cudaFree(X);\n",
        "    cudaFree(Y);\n",
        "    cudaFree(Z);\n",
        "\n",
        "    return 0;\n",
        "}"
      ],
      "metadata": {
        "colab": {
          "base_uri": "https://localhost:8080/"
        },
        "id": "Y9Xw6Tm0J8_u",
        "outputId": "0621a904-4cdd-414e-bf4c-996eb8343428"
      },
      "execution_count": 5,
      "outputs": [
        {
          "output_type": "stream",
          "name": "stdout",
          "text": [
            "Matrix A: \n",
            "3 6 \n",
            "7 5 \n",
            "\n",
            "Matrix B: \n",
            "3 5 \n",
            "6 2 \n",
            "\n",
            "Multiplication of matrix A and B: \n",
            "45 27 \n",
            "51 45 \n",
            "\n",
            "\n"
          ]
        }
      ]
    },
    {
      "cell_type": "code",
      "source": [
        "%%cu\n",
        "#include <iostream>\n",
        "using namespace std;\n",
        "\n",
        "__global__\n",
        "void add(int* A, int* B, int* C, int size) {\n",
        "    int tid = blockIdx.x * blockDim.x + threadIdx.x;\n",
        "\n",
        "    if (tid < size) {\n",
        "        C[tid] = A[tid] + B[tid];\n",
        "    }\n",
        "}\n",
        "\n",
        "\n",
        "void initialize(int* vector, int size) {\n",
        "    for (int i = 0; i < size; i++) {\n",
        "        vector[i] = rand() % 10;\n",
        "    }\n",
        "}\n",
        "\n",
        "void print(int* vector, int size) {\n",
        "    for (int i = 0; i < size; i++) {\n",
        "        cout << vector[i] << \" \";\n",
        "    }\n",
        "    cout << endl;\n",
        "}\n",
        "\n",
        "int main() {\n",
        "    int N = 4;\n",
        "    int* A, * B, * C;\n",
        "\n",
        "    int vectorSize = N;\n",
        "    size_t vectorBytes = vectorSize * sizeof(int);\n",
        "\n",
        "    A = new int[vectorSize];\n",
        "    B = new int[vectorSize];\n",
        "    C = new int[vectorSize];\n",
        "\n",
        "    initialize(A, vectorSize);\n",
        "    initialize(B, vectorSize);\n",
        "\n",
        "    cout << \"Vector A: \";\n",
        "    print(A, N);\n",
        "    cout << \"Vector B: \";\n",
        "    print(B, N);\n",
        "\n",
        "    int* X, * Y, * Z;\n",
        "    cudaMalloc(&X, vectorBytes);\n",
        "    cudaMalloc(&Y, vectorBytes);\n",
        "    cudaMalloc(&Z, vectorBytes);\n",
        "\n",
        "    cudaMemcpy(X, A, vectorBytes, cudaMemcpyHostToDevice);\n",
        "    cudaMemcpy(Y, B, vectorBytes, cudaMemcpyHostToDevice);\n",
        "\n",
        "    int threadsPerBlock = 256;\n",
        "    int blocksPerGrid = (N + threadsPerBlock - 1) / threadsPerBlock;\n",
        "\n",
        "    add<<<blocksPerGrid, threadsPerBlock>>>(X, Y, Z, N);\n",
        "\n",
        "    cudaMemcpy(C, Z, vectorBytes, cudaMemcpyDeviceToHost);\n",
        "\n",
        "    cout << \"Addition: \";\n",
        "    print(C, N);\n",
        "\n",
        "    delete[] A;\n",
        "    delete[] B;\n",
        "    delete[] C;\n",
        "\n",
        "    cudaFree(X);\n",
        "    cudaFree(Y);\n",
        "    cudaFree(Z);\n",
        "\n",
        "    return 0;\n",
        "}"
      ],
      "metadata": {
        "colab": {
          "base_uri": "https://localhost:8080/"
        },
        "id": "gfQbou5SKsU4",
        "outputId": "2e3ad945-2138-4b9d-f33e-57402842caf8"
      },
      "execution_count": null,
      "outputs": [
        {
          "output_type": "stream",
          "name": "stdout",
          "text": [
            "Vector A: 3 6 7 5 \n",
            "Vector B: 3 5 6 2 \n",
            "Addition: 6 11 13 7 \n",
            "\n"
          ]
        }
      ]
    },
    {
      "cell_type": "code",
      "source": [],
      "metadata": {
        "id": "NDDOqIt9LYdP"
      },
      "execution_count": null,
      "outputs": []
    }
  ]
}